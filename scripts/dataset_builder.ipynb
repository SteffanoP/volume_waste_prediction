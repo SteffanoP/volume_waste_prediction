{
 "cells": [
  {
   "cell_type": "markdown",
   "metadata": {},
   "source": [
    "# Dataset Builder\n",
    "\n",
    "Takes raw data and makes a real dataset ready for preprocessing."
   ]
  },
  {
   "cell_type": "markdown",
   "metadata": {},
   "source": [
    "## Importing"
   ]
  },
  {
   "cell_type": "code",
   "execution_count": null,
   "metadata": {},
   "outputs": [],
   "source": [
    "import pandas as pd"
   ]
  },
  {
   "cell_type": "code",
   "execution_count": null,
   "metadata": {},
   "outputs": [],
   "source": [
    "# Get Dataset into pandas dataframe\n",
    "df_pesagens = pd.read_csv('../data/raw/pesagens2014.csv', sep=',', index_col='PES_ID')\n",
    "df_rotas = pd.read_csv('../data/raw/rotas.csv', sep=';', index_col='ROTA_ID')"
   ]
  },
  {
   "cell_type": "markdown",
   "metadata": {},
   "source": [
    "## Info about the raw data"
   ]
  },
  {
   "cell_type": "code",
   "execution_count": null,
   "metadata": {},
   "outputs": [],
   "source": [
    "df_pesagens.info()"
   ]
  },
  {
   "cell_type": "code",
   "execution_count": null,
   "metadata": {},
   "outputs": [],
   "source": [
    "df_rotas.info()"
   ]
  },
  {
   "cell_type": "code",
   "execution_count": null,
   "metadata": {},
   "outputs": [],
   "source": [
    "df_pesagens.head()"
   ]
  },
  {
   "cell_type": "code",
   "execution_count": null,
   "metadata": {},
   "outputs": [],
   "source": [
    "df_rotas.head()"
   ]
  },
  {
   "cell_type": "markdown",
   "metadata": {},
   "source": [
    "By looking at both data, as well as looking at the [documentation of the data](http://dados.recife.pe.gov.br/dataset/pesagem-de-coletas-de-residuos), we know that the point of connection for both data is `ROTA_ID` attribute. \n",
    "\n",
    "We've gotta be sure that all instances from `pesagens` dataset has a valid `ROTA_ID` that is present on `roteirizacao` dataset, for this, we'll aggregate all valid data and non-valid data will be discarded."
   ]
  },
  {
   "cell_type": "markdown",
   "metadata": {},
   "source": [
    "## Merging Rotas Data into Pesagens \n",
    "\n",
    "Now we're gonna merge both datasets into just one dataset. This is achieved by using the `merge` method from **pandas**, but, as seen in our tests, if we have duplicate indexes we may see a duplication of our data. "
   ]
  },
  {
   "cell_type": "markdown",
   "metadata": {},
   "source": [
    "To fix this, we're gonna drop duplicate indexes present on our data, to make sure the merge is successfull and  no duplicate data is present in the merge."
   ]
  },
  {
   "cell_type": "code",
   "execution_count": null,
   "metadata": {},
   "outputs": [],
   "source": [
    "df_pesagens = df_pesagens.reset_index().drop_duplicates(subset='PES_ID', keep='first').set_index('PES_ID')\n",
    "df_rotas = df_rotas.reset_index().drop_duplicates(subset='ROTA_ID', keep='first').set_index('ROTA_ID')"
   ]
  },
  {
   "cell_type": "markdown",
   "metadata": {},
   "source": [
    "Duplicates removed, we can now merge into one dataset."
   ]
  },
  {
   "cell_type": "code",
   "execution_count": null,
   "metadata": {},
   "outputs": [],
   "source": [
    "df = df_pesagens.merge(df_rotas, on='ROTA_ID')"
   ]
  },
  {
   "cell_type": "code",
   "execution_count": null,
   "metadata": {},
   "outputs": [],
   "source": [
    "df['ROTA_ID'] = pd.to_numeric(df['ROTA_ID'], errors='coerce')\n",
    "\n",
    "for i in range(len(df['ROTA_ID'])):\n",
    "    # print(df.loc[i, 'ROTA_ID'])\n",
    "    if pd.isnull(df.loc[i, 'ROTA_ID']):\n",
    "        # print('yes')\n",
    "        df.loc[i, 'ROTA_ID'] = i\n",
    "\n",
    "print(df['ROTA_ID'])"
   ]
  },
  {
   "cell_type": "code",
   "execution_count": null,
   "metadata": {},
   "outputs": [],
   "source": [
    "df.info()"
   ]
  },
  {
   "cell_type": "code",
   "execution_count": null,
   "metadata": {},
   "outputs": [],
   "source": [
    "df.head()"
   ]
  },
  {
   "cell_type": "code",
   "execution_count": null,
   "metadata": {},
   "outputs": [],
   "source": [
    "# ISTO É APENAS UM TESTE PARA TRANSFORMAR OS DADOS DA COLUNA ROTA_ID EM NÚMEROS, MAS NÃO FUNCIONOU POR ENQUANTO\n",
    "# POIS OS NÚMEROS DOS NaN NÃO SÃO DIFERENTES\n",
    "\n",
    "import pandas as pd\n",
    "\n",
    "# Crie um DataFrame de exemplo\n",
    "data = {'ROTA_ID': ['GOFI1', '411', '548', 'ACE01']}\n",
    "da = pd.DataFrame(data)\n",
    "\n",
    "# Crie uma nova coluna para indicar se o valor original era não numérico\n",
    "da['ORIGINAL_NON_NUMERIC'] = ~da['ROTA_ID'].str.isnumeric()\n",
    "\n",
    "# Converta os valores da coluna 'ROTA_ID' para números, ignorando os valores não convertíveis\n",
    "da['ROTA_ID'] = pd.to_numeric(da['ROTA_ID'], errors='coerce')\n",
    "\n",
    "# Identifique valores originais não numéricos distintos\n",
    "non_numeric_values = da.loc[da['ORIGINAL_NON_NUMERIC'], 'ROTA_ID'].unique()\n",
    "\n",
    "# Substitua os valores não numéricos por valores numéricos distintos\n",
    "non_numeric_mapping = {value: idx for idx, value in enumerate(non_numeric_values)}\n",
    "da.loc[da['ORIGINAL_NON_NUMERIC'], 'ROTA_ID'] = da.loc[da['ORIGINAL_NON_NUMERIC'], 'ROTA_ID'].map(non_numeric_mapping)\n",
    "print(non_numeric_mapping)\n",
    "\n",
    "# Substitua os valores NaN por algum valor específico (por exemplo, -1)\n",
    "da['ROTA_ID'] = da['ROTA_ID'].fillna(-1)\n",
    "\n",
    "# da['ROTA_ID'] = pd.to_numeric(da['ROTA_ID'], errors='coerce') #da['ROTA_ID'].apply(convert_and_categorize)\n",
    "# print(da['ROTA_ID'])\n",
    "\n",
    "# Identifique valores originais não numéricos distintos\n",
    "# non_numeric_values = da.loc[~da['ROTA_ID'].apply(pd.api.types.is_numeric_dtype), 'ROTA_ID']#.unique()\n",
    "# print(non_numeric_values)\n",
    "\n",
    "# Substitua os valores não numéricos por valores numéricos distintos\n",
    "# non_numeric_mapping = {value: idx for idx, value in enumerate(non_numeric_values)}\n",
    "# for i in enumerate(non_numeric_values):\n",
    "#     print(i)\n",
    "\n",
    "# da['ROTA_ID'] = da['ROTA_ID'].apply(lambda x: non_numeric_mapping[x] if pd.isna(x) else x)\n",
    "# da['ROTA_ID'] = da['ROTA_ID'].fillna(-1)\n",
    "# da['ROTA_ID'].replace(non_numeric_mapping, inplace=True)\n",
    "\n",
    "print(da)"
   ]
  },
  {
   "cell_type": "code",
   "execution_count": null,
   "metadata": {},
   "outputs": [],
   "source": [
    "# OUTRO TESTE\n",
    "\n",
    "# import pandas as pd\n",
    "\n",
    "# # Crie um DataFrame de exemplo\n",
    "# data = {'ROTA_ID': ['GOFI1', '411', '548', 'ACE01']}\n",
    "# df = pd.DataFrame(data)\n",
    "\n",
    "# # Crie uma nova coluna para indicar se o valor original era não numérico\n",
    "# df['ORIGINAL_NON_NUMERIC'] = ~df['ROTA_ID'].str.isnumeric()\n",
    "\n",
    "# # Converta os valores da coluna 'ROTA_ID' para números, ignorando os valores não convertíveis\n",
    "# df['ROTA_ID'] = pd.to_numeric(df['ROTA_ID'], errors='coerce')\n",
    "# # print(df['ROTA_ID'])\n",
    "# # Identifique valores originais não numéricos distintos\n",
    "# non_numeric_values = df.loc[df['ORIGINAL_NON_NUMERIC'], 'ROTA_ID'].unique()\n",
    "# # print(non_numeric_values)\n",
    "\n",
    "# # Substitua os valores não numéricos por valores numéricos distintos\n",
    "# non_numeric_mapping = {value: idx for idx, value in enumerate(non_numeric_values)}\n",
    "# print(non_numeric_mapping)\n",
    "\n",
    "# df.loc[df['ORIGINAL_NON_NUMERIC'], 'ROTA_ID'] = df.loc[df['ORIGINAL_NON_NUMERIC'], 'ROTA_ID'].map(non_numeric_mapping)\n",
    "\n",
    "# # Substitua os valores NaN por algum valor específico (por exemplo, -1)\n",
    "# df['ROTA_ID'] = df['ROTA_ID'].fillna(-1)\n",
    "\n",
    "# print(df)\n"
   ]
  },
  {
   "cell_type": "markdown",
   "metadata": {},
   "source": [
    "## Exporting our dataset\n",
    "\n",
    "Simply we're gonna export into a `.csv`."
   ]
  },
  {
   "cell_type": "code",
   "execution_count": null,
   "metadata": {},
   "outputs": [],
   "source": [
    "df.to_csv('../data/dataset.csv', sep=',', index=True, index_label='PES_ID')"
   ]
  }
 ],
 "metadata": {
  "kernelspec": {
   "display_name": ".venv",
   "language": "python",
   "name": "python3"
  },
  "language_info": {
   "codemirror_mode": {
    "name": "ipython",
    "version": 3
   },
   "file_extension": ".py",
   "mimetype": "text/x-python",
   "name": "python",
   "nbconvert_exporter": "python",
   "pygments_lexer": "ipython3",
   "version": "3.11.0"
  }
 },
 "nbformat": 4,
 "nbformat_minor": 2
}
