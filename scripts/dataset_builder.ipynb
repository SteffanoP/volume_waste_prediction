{
 "cells": [
  {
   "cell_type": "markdown",
   "metadata": {},
   "source": [
    "# Dataset Builder\n",
    "\n",
    "Takes raw data and makes a real dataset ready for preprocessing."
   ]
  },
  {
   "cell_type": "markdown",
   "metadata": {},
   "source": [
    "## Importing"
   ]
  },
  {
   "cell_type": "code",
   "execution_count": 1,
   "metadata": {},
   "outputs": [],
   "source": [
    "import pandas as pd"
   ]
  },
  {
   "cell_type": "code",
   "execution_count": 3,
   "metadata": {},
   "outputs": [],
   "source": [
    "# Get Dataset into pandas dataframe\n",
    "df_pesagens = pd.read_csv('../data/raw/pesagens2014.csv', sep=',', index_col='PES_ID')\n",
    "df_rotas = pd.read_csv('../data/raw/rotas.csv', sep=';', index_col='ROTA_ID')"
   ]
  },
  {
   "cell_type": "markdown",
   "metadata": {},
   "source": [
    "## Info about the raw data"
   ]
  },
  {
   "cell_type": "code",
   "execution_count": 4,
   "metadata": {},
   "outputs": [
    {
     "name": "stdout",
     "output_type": "stream",
     "text": [
      "<class 'pandas.core.frame.DataFrame'>\n",
      "Index: 123750 entries, 2490322 to 896364\n",
      "Data columns (total 18 columns):\n",
      " #   Column              Non-Null Count   Dtype \n",
      "---  ------              --------------   ----- \n",
      " 0   _id                 123750 non-null  int64 \n",
      " 1   LOCDESCARREGO_ID    123750 non-null  int64 \n",
      " 2   LOCDESCARREGO_DESC  123750 non-null  object\n",
      " 3   EMP_ID              123750 non-null  int64 \n",
      " 4   EMP_NOME            123750 non-null  object\n",
      " 5   ROTA_ID             123749 non-null  object\n",
      " 6   TPVEICULO_DESC      123750 non-null  object\n",
      " 7   PES_DATAINI         123750 non-null  object\n",
      " 8   PES_HRINI           123750 non-null  object\n",
      " 9   PES_PESOINI         123750 non-null  int64 \n",
      " 10  PES_DATAFIM         123750 non-null  object\n",
      " 11  PES_HRFIM           123750 non-null  object\n",
      " 12  PES_PESOFIM         123750 non-null  int64 \n",
      " 13  PES_PESOUTIL        123750 non-null  int64 \n",
      " 14  COLETA_ID           123750 non-null  int64 \n",
      " 15  COLETA_DESC         123750 non-null  object\n",
      " 16  ESPECCOLETA_ID      123750 non-null  int64 \n",
      " 17  ESPECCOLETA_DESC    123750 non-null  object\n",
      "dtypes: int64(8), object(10)\n",
      "memory usage: 17.9+ MB\n"
     ]
    }
   ],
   "source": [
    "df_pesagens.info()"
   ]
  },
  {
   "cell_type": "code",
   "execution_count": 5,
   "metadata": {},
   "outputs": [
    {
     "name": "stdout",
     "output_type": "stream",
     "text": [
      "<class 'pandas.core.frame.DataFrame'>\n",
      "Index: 1228 entries, 01001 to V62\n",
      "Data columns (total 6 columns):\n",
      " #   Column           Non-Null Count  Dtype  \n",
      "---  ------           --------------  -----  \n",
      " 0   PERCUSSO_I       1227 non-null   float64\n",
      " 1   EMP_ID           1228 non-null   int64  \n",
      " 2   LOCAL_ID         1228 non-null   int64  \n",
      " 3   ROTA_DESC        1228 non-null   object \n",
      " 4   TPCIRCUITO_DESC  1228 non-null   object \n",
      " 5   LOCAL_NOME       1228 non-null   object \n",
      "dtypes: float64(1), int64(2), object(3)\n",
      "memory usage: 67.2+ KB\n"
     ]
    }
   ],
   "source": [
    "df_rotas.info()"
   ]
  },
  {
   "cell_type": "code",
   "execution_count": 6,
   "metadata": {},
   "outputs": [
    {
     "data": {
      "text/html": [
       "<div>\n",
       "<style scoped>\n",
       "    .dataframe tbody tr th:only-of-type {\n",
       "        vertical-align: middle;\n",
       "    }\n",
       "\n",
       "    .dataframe tbody tr th {\n",
       "        vertical-align: top;\n",
       "    }\n",
       "\n",
       "    .dataframe thead th {\n",
       "        text-align: right;\n",
       "    }\n",
       "</style>\n",
       "<table border=\"1\" class=\"dataframe\">\n",
       "  <thead>\n",
       "    <tr style=\"text-align: right;\">\n",
       "      <th></th>\n",
       "      <th>_id</th>\n",
       "      <th>LOCDESCARREGO_ID</th>\n",
       "      <th>LOCDESCARREGO_DESC</th>\n",
       "      <th>EMP_ID</th>\n",
       "      <th>EMP_NOME</th>\n",
       "      <th>ROTA_ID</th>\n",
       "      <th>TPVEICULO_DESC</th>\n",
       "      <th>PES_DATAINI</th>\n",
       "      <th>PES_HRINI</th>\n",
       "      <th>PES_PESOINI</th>\n",
       "      <th>PES_DATAFIM</th>\n",
       "      <th>PES_HRFIM</th>\n",
       "      <th>PES_PESOFIM</th>\n",
       "      <th>PES_PESOUTIL</th>\n",
       "      <th>COLETA_ID</th>\n",
       "      <th>COLETA_DESC</th>\n",
       "      <th>ESPECCOLETA_ID</th>\n",
       "      <th>ESPECCOLETA_DESC</th>\n",
       "    </tr>\n",
       "    <tr>\n",
       "      <th>PES_ID</th>\n",
       "      <th></th>\n",
       "      <th></th>\n",
       "      <th></th>\n",
       "      <th></th>\n",
       "      <th></th>\n",
       "      <th></th>\n",
       "      <th></th>\n",
       "      <th></th>\n",
       "      <th></th>\n",
       "      <th></th>\n",
       "      <th></th>\n",
       "      <th></th>\n",
       "      <th></th>\n",
       "      <th></th>\n",
       "      <th></th>\n",
       "      <th></th>\n",
       "      <th></th>\n",
       "      <th></th>\n",
       "    </tr>\n",
       "  </thead>\n",
       "  <tbody>\n",
       "    <tr>\n",
       "      <th>2490322</th>\n",
       "      <td>1</td>\n",
       "      <td>7</td>\n",
       "      <td>CTR-CANDEIAS</td>\n",
       "      <td>708</td>\n",
       "      <td>VITAL - LOTE 2  CONTRATO  6016/10</td>\n",
       "      <td>0411</td>\n",
       "      <td>CAMINHAO COMPACTADOR</td>\n",
       "      <td>2014-12-31T00:00:00</td>\n",
       "      <td>2016-12-01T23:57:01</td>\n",
       "      <td>21280</td>\n",
       "      <td>2015-01-01T00:00:00</td>\n",
       "      <td>2016-12-01T00:12:06</td>\n",
       "      <td>11640</td>\n",
       "      <td>9640</td>\n",
       "      <td>1</td>\n",
       "      <td>COLETA DOMICILIAR</td>\n",
       "      <td>1</td>\n",
       "      <td>DOMICILIAR</td>\n",
       "    </tr>\n",
       "    <tr>\n",
       "      <th>2490321</th>\n",
       "      <td>2</td>\n",
       "      <td>7</td>\n",
       "      <td>CTR-CANDEIAS</td>\n",
       "      <td>708</td>\n",
       "      <td>VITAL - LOTE 2  CONTRATO  6016/10</td>\n",
       "      <td>0410</td>\n",
       "      <td>CAMINHAO COMPACTADOR</td>\n",
       "      <td>2014-12-31T00:00:00</td>\n",
       "      <td>2016-12-01T23:51:26</td>\n",
       "      <td>15040</td>\n",
       "      <td>2015-01-01T00:00:00</td>\n",
       "      <td>2016-12-01T00:02:06</td>\n",
       "      <td>11600</td>\n",
       "      <td>3440</td>\n",
       "      <td>1</td>\n",
       "      <td>COLETA DOMICILIAR</td>\n",
       "      <td>1</td>\n",
       "      <td>DOMICILIAR</td>\n",
       "    </tr>\n",
       "    <tr>\n",
       "      <th>2490320</th>\n",
       "      <td>3</td>\n",
       "      <td>7</td>\n",
       "      <td>CTR-CANDEIAS</td>\n",
       "      <td>708</td>\n",
       "      <td>VITAL - LOTE 2  CONTRATO  6016/10</td>\n",
       "      <td>0507</td>\n",
       "      <td>CAMINHAO COMPACTADOR</td>\n",
       "      <td>2014-12-31T00:00:00</td>\n",
       "      <td>2016-12-01T23:41:16</td>\n",
       "      <td>18520</td>\n",
       "      <td>2014-12-31T00:00:00</td>\n",
       "      <td>2016-12-01T23:51:25</td>\n",
       "      <td>11800</td>\n",
       "      <td>6720</td>\n",
       "      <td>1</td>\n",
       "      <td>COLETA DOMICILIAR</td>\n",
       "      <td>1</td>\n",
       "      <td>DOMICILIAR</td>\n",
       "    </tr>\n",
       "    <tr>\n",
       "      <th>2490319</th>\n",
       "      <td>4</td>\n",
       "      <td>7</td>\n",
       "      <td>CTR-CANDEIAS</td>\n",
       "      <td>708</td>\n",
       "      <td>VITAL - LOTE 2  CONTRATO  6016/10</td>\n",
       "      <td>0424</td>\n",
       "      <td>CAMINHAO COMPACTADOR</td>\n",
       "      <td>2014-12-31T00:00:00</td>\n",
       "      <td>2016-12-01T23:34:38</td>\n",
       "      <td>19780</td>\n",
       "      <td>2014-12-31T00:00:00</td>\n",
       "      <td>2016-12-01T23:43:43</td>\n",
       "      <td>13520</td>\n",
       "      <td>6260</td>\n",
       "      <td>1</td>\n",
       "      <td>COLETA DOMICILIAR</td>\n",
       "      <td>1</td>\n",
       "      <td>DOMICILIAR</td>\n",
       "    </tr>\n",
       "    <tr>\n",
       "      <th>2490317</th>\n",
       "      <td>5</td>\n",
       "      <td>7</td>\n",
       "      <td>CTR-CANDEIAS</td>\n",
       "      <td>702</td>\n",
       "      <td>VITAL ENGENHARIA AMBIENTAL S/A -  RASPAGEM</td>\n",
       "      <td>R0113</td>\n",
       "      <td>CAMINHAO CACAMBA</td>\n",
       "      <td>2014-12-31T00:00:00</td>\n",
       "      <td>2016-12-01T23:31:20</td>\n",
       "      <td>15020</td>\n",
       "      <td>2014-12-31T00:00:00</td>\n",
       "      <td>2016-12-01T23:41:16</td>\n",
       "      <td>9790</td>\n",
       "      <td>5230</td>\n",
       "      <td>25</td>\n",
       "      <td>RASPAGEM</td>\n",
       "      <td>50</td>\n",
       "      <td>RASPAGEM</td>\n",
       "    </tr>\n",
       "  </tbody>\n",
       "</table>\n",
       "</div>"
      ],
      "text/plain": [
       "         _id  LOCDESCARREGO_ID LOCDESCARREGO_DESC  EMP_ID  \\\n",
       "PES_ID                                                      \n",
       "2490322    1                 7       CTR-CANDEIAS     708   \n",
       "2490321    2                 7       CTR-CANDEIAS     708   \n",
       "2490320    3                 7       CTR-CANDEIAS     708   \n",
       "2490319    4                 7       CTR-CANDEIAS     708   \n",
       "2490317    5                 7       CTR-CANDEIAS     702   \n",
       "\n",
       "                                           EMP_NOME ROTA_ID  \\\n",
       "PES_ID                                                        \n",
       "2490322           VITAL - LOTE 2  CONTRATO  6016/10    0411   \n",
       "2490321           VITAL - LOTE 2  CONTRATO  6016/10    0410   \n",
       "2490320           VITAL - LOTE 2  CONTRATO  6016/10    0507   \n",
       "2490319           VITAL - LOTE 2  CONTRATO  6016/10    0424   \n",
       "2490317  VITAL ENGENHARIA AMBIENTAL S/A -  RASPAGEM   R0113   \n",
       "\n",
       "               TPVEICULO_DESC          PES_DATAINI            PES_HRINI  \\\n",
       "PES_ID                                                                    \n",
       "2490322  CAMINHAO COMPACTADOR  2014-12-31T00:00:00  2016-12-01T23:57:01   \n",
       "2490321  CAMINHAO COMPACTADOR  2014-12-31T00:00:00  2016-12-01T23:51:26   \n",
       "2490320  CAMINHAO COMPACTADOR  2014-12-31T00:00:00  2016-12-01T23:41:16   \n",
       "2490319  CAMINHAO COMPACTADOR  2014-12-31T00:00:00  2016-12-01T23:34:38   \n",
       "2490317      CAMINHAO CACAMBA  2014-12-31T00:00:00  2016-12-01T23:31:20   \n",
       "\n",
       "         PES_PESOINI          PES_DATAFIM            PES_HRFIM  PES_PESOFIM  \\\n",
       "PES_ID                                                                        \n",
       "2490322        21280  2015-01-01T00:00:00  2016-12-01T00:12:06        11640   \n",
       "2490321        15040  2015-01-01T00:00:00  2016-12-01T00:02:06        11600   \n",
       "2490320        18520  2014-12-31T00:00:00  2016-12-01T23:51:25        11800   \n",
       "2490319        19780  2014-12-31T00:00:00  2016-12-01T23:43:43        13520   \n",
       "2490317        15020  2014-12-31T00:00:00  2016-12-01T23:41:16         9790   \n",
       "\n",
       "         PES_PESOUTIL  COLETA_ID        COLETA_DESC  ESPECCOLETA_ID  \\\n",
       "PES_ID                                                                \n",
       "2490322          9640          1  COLETA DOMICILIAR               1   \n",
       "2490321          3440          1  COLETA DOMICILIAR               1   \n",
       "2490320          6720          1  COLETA DOMICILIAR               1   \n",
       "2490319          6260          1  COLETA DOMICILIAR               1   \n",
       "2490317          5230         25           RASPAGEM              50   \n",
       "\n",
       "        ESPECCOLETA_DESC  \n",
       "PES_ID                    \n",
       "2490322       DOMICILIAR  \n",
       "2490321       DOMICILIAR  \n",
       "2490320       DOMICILIAR  \n",
       "2490319       DOMICILIAR  \n",
       "2490317         RASPAGEM  "
      ]
     },
     "execution_count": 6,
     "metadata": {},
     "output_type": "execute_result"
    }
   ],
   "source": [
    "df_pesagens.head()"
   ]
  },
  {
   "cell_type": "code",
   "execution_count": 7,
   "metadata": {},
   "outputs": [
    {
     "data": {
      "text/html": [
       "<div>\n",
       "<style scoped>\n",
       "    .dataframe tbody tr th:only-of-type {\n",
       "        vertical-align: middle;\n",
       "    }\n",
       "\n",
       "    .dataframe tbody tr th {\n",
       "        vertical-align: top;\n",
       "    }\n",
       "\n",
       "    .dataframe thead th {\n",
       "        text-align: right;\n",
       "    }\n",
       "</style>\n",
       "<table border=\"1\" class=\"dataframe\">\n",
       "  <thead>\n",
       "    <tr style=\"text-align: right;\">\n",
       "      <th></th>\n",
       "      <th>PERCUSSO_I</th>\n",
       "      <th>EMP_ID</th>\n",
       "      <th>LOCAL_ID</th>\n",
       "      <th>ROTA_DESC</th>\n",
       "      <th>TPCIRCUITO_DESC</th>\n",
       "      <th>LOCAL_NOME</th>\n",
       "    </tr>\n",
       "    <tr>\n",
       "      <th>ROTA_ID</th>\n",
       "      <th></th>\n",
       "      <th></th>\n",
       "      <th></th>\n",
       "      <th></th>\n",
       "      <th></th>\n",
       "      <th></th>\n",
       "    </tr>\n",
       "  </thead>\n",
       "  <tbody>\n",
       "    <tr>\n",
       "      <th>01001</th>\n",
       "      <td>1873.0</td>\n",
       "      <td>27</td>\n",
       "      <td>671</td>\n",
       "      <td>COLETA  DOM  COMPACTADORES</td>\n",
       "      <td>-REA</td>\n",
       "      <td>ZUMBI</td>\n",
       "    </tr>\n",
       "    <tr>\n",
       "      <th>01001</th>\n",
       "      <td>1866.0</td>\n",
       "      <td>27</td>\n",
       "      <td>680</td>\n",
       "      <td>COLETA  DOM  COMPACTADORES</td>\n",
       "      <td>-REA</td>\n",
       "      <td>CORDEIRO</td>\n",
       "    </tr>\n",
       "    <tr>\n",
       "      <th>01001</th>\n",
       "      <td>1867.0</td>\n",
       "      <td>27</td>\n",
       "      <td>698</td>\n",
       "      <td>COLETA  DOM  COMPACTADORES</td>\n",
       "      <td>-REA</td>\n",
       "      <td>IPUTINGA</td>\n",
       "    </tr>\n",
       "    <tr>\n",
       "      <th>01002</th>\n",
       "      <td>1697.0</td>\n",
       "      <td>27</td>\n",
       "      <td>744</td>\n",
       "      <td>COLETA  DOM  COMPACTADORES</td>\n",
       "      <td>-REA</td>\n",
       "      <td>CAXANGA</td>\n",
       "    </tr>\n",
       "    <tr>\n",
       "      <th>01003</th>\n",
       "      <td>1835.0</td>\n",
       "      <td>27</td>\n",
       "      <td>728</td>\n",
       "      <td>COLETA  DOM  COMPACTADORES</td>\n",
       "      <td>-REA</td>\n",
       "      <td>CIDADE UNIVERSITARIA</td>\n",
       "    </tr>\n",
       "  </tbody>\n",
       "</table>\n",
       "</div>"
      ],
      "text/plain": [
       "         PERCUSSO_I  EMP_ID  LOCAL_ID                   ROTA_DESC  \\\n",
       "ROTA_ID                                                             \n",
       "01001        1873.0      27       671  COLETA  DOM  COMPACTADORES   \n",
       "01001        1866.0      27       680  COLETA  DOM  COMPACTADORES   \n",
       "01001        1867.0      27       698  COLETA  DOM  COMPACTADORES   \n",
       "01002        1697.0      27       744  COLETA  DOM  COMPACTADORES   \n",
       "01003        1835.0      27       728  COLETA  DOM  COMPACTADORES   \n",
       "\n",
       "        TPCIRCUITO_DESC            LOCAL_NOME  \n",
       "ROTA_ID                                        \n",
       "01001              -REA                 ZUMBI  \n",
       "01001              -REA              CORDEIRO  \n",
       "01001              -REA              IPUTINGA  \n",
       "01002              -REA               CAXANGA  \n",
       "01003              -REA  CIDADE UNIVERSITARIA  "
      ]
     },
     "execution_count": 7,
     "metadata": {},
     "output_type": "execute_result"
    }
   ],
   "source": [
    "df_rotas.head()"
   ]
  },
  {
   "cell_type": "markdown",
   "metadata": {},
   "source": [
    "By looking at both data, as well as looking at the [documentation of the data](http://dados.recife.pe.gov.br/dataset/pesagem-de-coletas-de-residuos), we know that the point of connection for both data is `ROTA_ID` attribute. \n",
    "\n",
    "We've gotta be sure that all instances from `pesagens` dataset has a valid `ROTA_ID` that is present on `roteirizacao` dataset, for this, we'll aggregate all valid data and non-valid data will be discarded."
   ]
  },
  {
   "cell_type": "markdown",
   "metadata": {},
   "source": [
    "## Merging Rotas Data into Pesagens \n",
    "\n",
    "Now we're gonna merge both datasets into just one dataset. This is achieved by using the `merge` method from **pandas**, but, as seen in our tests, if we have duplicate indexes we may see a duplication of our data. "
   ]
  },
  {
   "cell_type": "markdown",
   "metadata": {},
   "source": [
    "To fix this, we're gonna drop duplicate indexes present on our data, to make sure the merge is successfull and  no duplicate data is present in the merge."
   ]
  },
  {
   "cell_type": "code",
   "execution_count": 8,
   "metadata": {},
   "outputs": [],
   "source": [
    "df_pesagens = df_pesagens.reset_index().drop_duplicates(subset='PES_ID', keep='first').set_index('PES_ID')\n",
    "df_rotas = df_rotas.reset_index().drop_duplicates(subset='ROTA_ID', keep='first').set_index('ROTA_ID')"
   ]
  },
  {
   "cell_type": "markdown",
   "metadata": {},
   "source": [
    "Duplicates removed, we can now merge into one dataset."
   ]
  },
  {
   "cell_type": "code",
   "execution_count": 9,
   "metadata": {},
   "outputs": [],
   "source": [
    "df = df_pesagens.merge(df_rotas, on='ROTA_ID')"
   ]
  },
  {
   "cell_type": "code",
   "execution_count": 10,
   "metadata": {},
   "outputs": [
    {
     "name": "stdout",
     "output_type": "stream",
     "text": [
      "<class 'pandas.core.frame.DataFrame'>\n",
      "RangeIndex: 119801 entries, 0 to 119800\n",
      "Data columns (total 24 columns):\n",
      " #   Column              Non-Null Count   Dtype  \n",
      "---  ------              --------------   -----  \n",
      " 0   _id                 119801 non-null  int64  \n",
      " 1   LOCDESCARREGO_ID    119801 non-null  int64  \n",
      " 2   LOCDESCARREGO_DESC  119801 non-null  object \n",
      " 3   EMP_ID_x            119801 non-null  int64  \n",
      " 4   EMP_NOME            119801 non-null  object \n",
      " 5   ROTA_ID             119801 non-null  object \n",
      " 6   TPVEICULO_DESC      119801 non-null  object \n",
      " 7   PES_DATAINI         119801 non-null  object \n",
      " 8   PES_HRINI           119801 non-null  object \n",
      " 9   PES_PESOINI         119801 non-null  int64  \n",
      " 10  PES_DATAFIM         119801 non-null  object \n",
      " 11  PES_HRFIM           119801 non-null  object \n",
      " 12  PES_PESOFIM         119801 non-null  int64  \n",
      " 13  PES_PESOUTIL        119801 non-null  int64  \n",
      " 14  COLETA_ID           119801 non-null  int64  \n",
      " 15  COLETA_DESC         119801 non-null  object \n",
      " 16  ESPECCOLETA_ID      119801 non-null  int64  \n",
      " 17  ESPECCOLETA_DESC    119801 non-null  object \n",
      " 18  PERCUSSO_I          119801 non-null  float64\n",
      " 19  EMP_ID_y            119801 non-null  int64  \n",
      " 20  LOCAL_ID            119801 non-null  int64  \n",
      " 21  ROTA_DESC           119801 non-null  object \n",
      " 22  TPCIRCUITO_DESC     119801 non-null  object \n",
      " 23  LOCAL_NOME          119801 non-null  object \n",
      "dtypes: float64(1), int64(10), object(13)\n",
      "memory usage: 21.9+ MB\n"
     ]
    }
   ],
   "source": [
    "df.info()"
   ]
  },
  {
   "cell_type": "markdown",
   "metadata": {},
   "source": [
    "## Exporting our dataset\n",
    "\n",
    "Simply we're gonna export into a `.csv`."
   ]
  },
  {
   "cell_type": "code",
   "execution_count": 11,
   "metadata": {},
   "outputs": [],
   "source": [
    "df.to_csv('../data/dataset.csv', sep=',', index=True, index_label='PES_ID')"
   ]
  }
 ],
 "metadata": {
  "kernelspec": {
   "display_name": ".venv",
   "language": "python",
   "name": "python3"
  },
  "language_info": {
   "codemirror_mode": {
    "name": "ipython",
    "version": 3
   },
   "file_extension": ".py",
   "mimetype": "text/x-python",
   "name": "python",
   "nbconvert_exporter": "python",
   "pygments_lexer": "ipython3",
   "version": "3.11.0"
  }
 },
 "nbformat": 4,
 "nbformat_minor": 2
}
