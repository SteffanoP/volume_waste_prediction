{
 "cells": [
  {
   "cell_type": "markdown",
   "metadata": {},
   "source": [
    "# Preprocessing\n",
    "\n",
    "By analyzing our dataset we saw a few opportunities for improvement before send the dataset for training, the following sections will optimize the dataset for training."
   ]
  },
  {
   "cell_type": "markdown",
   "metadata": {},
   "source": [
    "## Importing the Dataset"
   ]
  },
  {
   "cell_type": "code",
   "execution_count": 2,
   "metadata": {},
   "outputs": [],
   "source": [
    "import pandas as pd\n",
    "\n",
    "df = pd.read_csv('../data/dataset.csv')"
   ]
  },
  {
   "cell_type": "markdown",
   "metadata": {},
   "source": [
    "## Removing duplicate data\n",
    "\n",
    "Some of the dataset has some data that is duplicated, such as names and descriptions, that are already present on some `ID` column, for example, `COLETA_DESC` has the same information as `COLETA_ID`.\n",
    "\n",
    "There's also duplicated information on the `PES_PESOINI`, `PES_PESOFIM` and `PES_PESOUTIL`, since `PES_PESOUTIL = PES_PESOFIM - PES_PESOINI`. `PES_PESOINI` refers to the weight a `TPVEICULO_DESC` has, therefore we can drop `PES_PESOINI` and `PES_PESOFIM`.\n"
   ]
  },
  {
   "cell_type": "code",
   "execution_count": 5,
   "metadata": {},
   "outputs": [],
   "source": [
    "DROP_LIST = ['LOCDESCARREGO_DESC', 'EMP_NOME', 'PES_PESOFIM', 'PES_PESOINI', 'COLETA_DESC', 'ESPECCOLETA_DESC', 'LOCAL_NOME', 'ROTA_DESC']\n",
    "\n",
    "df.drop(DROP_LIST, axis=1, inplace=True)"
   ]
  },
  {
   "cell_type": "markdown",
   "metadata": {},
   "source": [
    "## Making Adjustments"
   ]
  },
  {
   "cell_type": "code",
   "execution_count": null,
   "metadata": {},
   "outputs": [],
   "source": [
    "df = df.replace({'-REA': 0, 'CIRCUITO': 1, 'PONTUAL': 2})"
   ]
  },
  {
   "cell_type": "markdown",
   "metadata": {},
   "source": [
    "## Applying LabelEncoder on Categorical Columns"
   ]
  },
  {
   "cell_type": "code",
   "execution_count": 6,
   "metadata": {},
   "outputs": [],
   "source": [
    "from sklearn.preprocessing import LabelEncoder\n",
    "\n",
    "label_encoder = LabelEncoder()\n",
    "df['TPVEICULO_DESC'] = label_encoder.fit_transform(df['TPVEICULO_DESC'])\n",
    "df['TPCIRCUITO_DESC'] = label_encoder.fit_transform(df['TPCIRCUITO_DESC'])\n",
    "df['ROTA_ID'] = label_encoder.fit_transform(df['ROTA_ID'])\n"
   ]
  },
  {
   "cell_type": "markdown",
   "metadata": {},
   "source": [
    "## Our Results"
   ]
  },
  {
   "cell_type": "code",
   "execution_count": 7,
   "metadata": {},
   "outputs": [
    {
     "name": "stdout",
     "output_type": "stream",
     "text": [
      "<class 'pandas.core.frame.DataFrame'>\n",
      "RangeIndex: 119801 entries, 0 to 119800\n",
      "Data columns (total 13 columns):\n",
      " #   Column            Non-Null Count   Dtype  \n",
      "---  ------            --------------   -----  \n",
      " 0   PES_ID            119801 non-null  int64  \n",
      " 1   LOCDESCARREGO_ID  119801 non-null  int64  \n",
      " 2   EMP_ID            119801 non-null  int64  \n",
      " 3   ROTA_ID           119801 non-null  int64  \n",
      " 4   TPVEICULO_DESC    119801 non-null  int64  \n",
      " 5   PES_PESOUTIL      119801 non-null  int64  \n",
      " 6   COLETA_ID         119801 non-null  int64  \n",
      " 7   ESPECCOLETA_ID    119801 non-null  int64  \n",
      " 8   PERCUSSO_I        119801 non-null  float64\n",
      " 9   LOCAL_ID          119801 non-null  int64  \n",
      " 10  TPCIRCUITO_DESC   119801 non-null  object \n",
      " 11  DATETIME_INI      119801 non-null  object \n",
      " 12  DATETIME_FIM      119801 non-null  object \n",
      "dtypes: float64(1), int64(9), object(3)\n",
      "memory usage: 11.9+ MB\n"
     ]
    }
   ],
   "source": [
    "df.info()"
   ]
  },
  {
   "cell_type": "code",
   "execution_count": 8,
   "metadata": {},
   "outputs": [
    {
     "data": {
      "text/html": [
       "<div>\n",
       "<style scoped>\n",
       "    .dataframe tbody tr th:only-of-type {\n",
       "        vertical-align: middle;\n",
       "    }\n",
       "\n",
       "    .dataframe tbody tr th {\n",
       "        vertical-align: top;\n",
       "    }\n",
       "\n",
       "    .dataframe thead th {\n",
       "        text-align: right;\n",
       "    }\n",
       "</style>\n",
       "<table border=\"1\" class=\"dataframe\">\n",
       "  <thead>\n",
       "    <tr style=\"text-align: right;\">\n",
       "      <th></th>\n",
       "      <th>PES_ID</th>\n",
       "      <th>LOCDESCARREGO_ID</th>\n",
       "      <th>EMP_ID</th>\n",
       "      <th>ROTA_ID</th>\n",
       "      <th>TPVEICULO_DESC</th>\n",
       "      <th>PES_PESOUTIL</th>\n",
       "      <th>COLETA_ID</th>\n",
       "      <th>ESPECCOLETA_ID</th>\n",
       "      <th>PERCUSSO_I</th>\n",
       "      <th>LOCAL_ID</th>\n",
       "      <th>TPCIRCUITO_DESC</th>\n",
       "      <th>DATETIME_INI</th>\n",
       "      <th>DATETIME_FIM</th>\n",
       "    </tr>\n",
       "  </thead>\n",
       "  <tbody>\n",
       "    <tr>\n",
       "      <th>0</th>\n",
       "      <td>2490322</td>\n",
       "      <td>7</td>\n",
       "      <td>708</td>\n",
       "      <td>144</td>\n",
       "      <td>3</td>\n",
       "      <td>9640</td>\n",
       "      <td>1</td>\n",
       "      <td>1</td>\n",
       "      <td>2156.0</td>\n",
       "      <td>205</td>\n",
       "      <td>-REA</td>\n",
       "      <td>2014-12-31 23:57:01</td>\n",
       "      <td>2015-01-01 00:12:06</td>\n",
       "    </tr>\n",
       "    <tr>\n",
       "      <th>1</th>\n",
       "      <td>2489495</td>\n",
       "      <td>7</td>\n",
       "      <td>708</td>\n",
       "      <td>144</td>\n",
       "      <td>3</td>\n",
       "      <td>9100</td>\n",
       "      <td>1</td>\n",
       "      <td>1</td>\n",
       "      <td>2156.0</td>\n",
       "      <td>205</td>\n",
       "      <td>-REA</td>\n",
       "      <td>2014-12-30 01:27:00</td>\n",
       "      <td>2014-12-30 01:42:32</td>\n",
       "    </tr>\n",
       "    <tr>\n",
       "      <th>2</th>\n",
       "      <td>2488707</td>\n",
       "      <td>7</td>\n",
       "      <td>708</td>\n",
       "      <td>144</td>\n",
       "      <td>3</td>\n",
       "      <td>3480</td>\n",
       "      <td>1</td>\n",
       "      <td>1</td>\n",
       "      <td>2156.0</td>\n",
       "      <td>205</td>\n",
       "      <td>-REA</td>\n",
       "      <td>2014-12-27 04:47:05</td>\n",
       "      <td>2014-12-27 05:01:09</td>\n",
       "    </tr>\n",
       "    <tr>\n",
       "      <th>3</th>\n",
       "      <td>2488660</td>\n",
       "      <td>7</td>\n",
       "      <td>708</td>\n",
       "      <td>144</td>\n",
       "      <td>3</td>\n",
       "      <td>9370</td>\n",
       "      <td>1</td>\n",
       "      <td>1</td>\n",
       "      <td>2156.0</td>\n",
       "      <td>205</td>\n",
       "      <td>-REA</td>\n",
       "      <td>2014-12-27 01:29:54</td>\n",
       "      <td>2014-12-27 01:43:34</td>\n",
       "    </tr>\n",
       "    <tr>\n",
       "      <th>4</th>\n",
       "      <td>2488114</td>\n",
       "      <td>7</td>\n",
       "      <td>708</td>\n",
       "      <td>144</td>\n",
       "      <td>3</td>\n",
       "      <td>9460</td>\n",
       "      <td>1</td>\n",
       "      <td>1</td>\n",
       "      <td>2156.0</td>\n",
       "      <td>205</td>\n",
       "      <td>-REA</td>\n",
       "      <td>2014-12-25 07:10:07</td>\n",
       "      <td>2014-12-25 07:23:23</td>\n",
       "    </tr>\n",
       "  </tbody>\n",
       "</table>\n",
       "</div>"
      ],
      "text/plain": [
       "    PES_ID  LOCDESCARREGO_ID  EMP_ID  ROTA_ID  TPVEICULO_DESC  PES_PESOUTIL  \\\n",
       "0  2490322                 7     708      144               3          9640   \n",
       "1  2489495                 7     708      144               3          9100   \n",
       "2  2488707                 7     708      144               3          3480   \n",
       "3  2488660                 7     708      144               3          9370   \n",
       "4  2488114                 7     708      144               3          9460   \n",
       "\n",
       "   COLETA_ID  ESPECCOLETA_ID  PERCUSSO_I  LOCAL_ID TPCIRCUITO_DESC  \\\n",
       "0          1               1      2156.0       205            -REA   \n",
       "1          1               1      2156.0       205            -REA   \n",
       "2          1               1      2156.0       205            -REA   \n",
       "3          1               1      2156.0       205            -REA   \n",
       "4          1               1      2156.0       205            -REA   \n",
       "\n",
       "          DATETIME_INI         DATETIME_FIM  \n",
       "0  2014-12-31 23:57:01  2015-01-01 00:12:06  \n",
       "1  2014-12-30 01:27:00  2014-12-30 01:42:32  \n",
       "2  2014-12-27 04:47:05  2014-12-27 05:01:09  \n",
       "3  2014-12-27 01:29:54  2014-12-27 01:43:34  \n",
       "4  2014-12-25 07:10:07  2014-12-25 07:23:23  "
      ]
     },
     "execution_count": 8,
     "metadata": {},
     "output_type": "execute_result"
    }
   ],
   "source": [
    "df.head()"
   ]
  },
  {
   "cell_type": "markdown",
   "metadata": {},
   "source": [
    "## Exporting"
   ]
  },
  {
   "cell_type": "code",
   "execution_count": null,
   "metadata": {},
   "outputs": [],
   "source": [
    "df.to_csv('../data/preprocessed.csv', index=False)"
   ]
  }
 ],
 "metadata": {
  "kernelspec": {
   "display_name": ".venv",
   "language": "python",
   "name": "python3"
  },
  "language_info": {
   "codemirror_mode": {
    "name": "ipython",
    "version": 3
   },
   "file_extension": ".py",
   "mimetype": "text/x-python",
   "name": "python",
   "nbconvert_exporter": "python",
   "pygments_lexer": "ipython3",
   "version": "3.10.12"
  }
 },
 "nbformat": 4,
 "nbformat_minor": 2
}
