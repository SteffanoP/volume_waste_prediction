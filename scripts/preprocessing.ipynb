{
 "cells": [
  {
   "cell_type": "markdown",
   "metadata": {},
   "source": [
    "## Importing"
   ]
  },
  {
   "cell_type": "code",
   "execution_count": null,
   "metadata": {},
   "outputs": [],
   "source": [
    "import pandas as pd\n",
    "\n",
    "df = pd.read_csv('../data/dataset.csv', index_col='PES_ID')"
   ]
  },
  {
   "cell_type": "markdown",
   "metadata": {},
   "source": [
    "## Making Adjustments"
   ]
  },
  {
   "cell_type": "code",
   "execution_count": null,
   "metadata": {},
   "outputs": [],
   "source": [
    "df.rename(columns={'EMP_ID_x': 'EMP_ID'}, inplace=True)"
   ]
  },
  {
   "cell_type": "code",
   "execution_count": null,
   "metadata": {},
   "outputs": [],
   "source": [
    "# Changing the type of the columns to datetime, so it can be used later.\n",
    "# 'PES_DATAINI' and 'PES_DATAFIM' contaisn only date data and 'PES_HRINI' and 'PES_HRFIM' contains only time data.\n",
    "# No longer timestamp data.\n",
    "for i in range(len(df.columns)):\n",
    "    #print(df.columns[i])\n",
    "    if df.columns[i] == 'PES_DATAINI' or df.columns[i] == 'PES_DATAFIM':\n",
    "        df[df.columns[i]] = pd.to_datetime(df[df.columns[i]])\n",
    "        \n",
    "    elif df.columns[i] == 'PES_HRINI' or df.columns[i] == 'PES_HRFIM':\n",
    "        df[df.columns[i]] = pd.to_datetime(df[df.columns[i]])\n",
    "         \n",
    "        without_date = df[df.columns[i]].apply( lambda d : d.time() )\n",
    "        df[df.columns[i]] = without_date # turned to object type\n",
    "        \n",
    "        df[df.columns[i]] = pd.to_datetime(df[df.columns[i]], format='%H:%M:%S')"
   ]
  },
  {
   "cell_type": "code",
   "execution_count": null,
   "metadata": {},
   "outputs": [],
   "source": [
    "# To turn 'PES_HRINI' and 'PES_HRFIM''s data into minute format calculating the duration.\n",
    "df['PES_HRFIM'] = df.apply(lambda x: x['PES_HRFIM'] + pd.Timedelta(days=1) if x['PES_HRFIM'] < x['PES_HRINI'] else x['PES_HRFIM'], axis=1)\n",
    "\n",
    "df['DURATION'] = (abs(df['PES_HRFIM'] - df['PES_HRINI'])).dt.total_seconds() / 60\n",
    "# df['DURATION'] = df['DURATION'].astype(int)"
   ]
  },
  {
   "cell_type": "code",
   "execution_count": null,
   "metadata": {},
   "outputs": [],
   "source": [
    "df = df.replace({'-REA': 0, 'CIRCUITO': 1, 'PONTUAL': 2})"
   ]
  },
  {
   "cell_type": "markdown",
   "metadata": {},
   "source": [
    "## Removing duplicate data\n"
   ]
  },
  {
   "cell_type": "code",
   "execution_count": null,
   "metadata": {},
   "outputs": [],
   "source": [
    "DROP_LIST = ['LOCDESCARREGO_DESC', 'EMP_NOME', 'PES_HRFIM', 'PES_HRINI', 'PES_PESOFIM', 'PES_PESOINI', 'COLETA_DESC', 'ESPECCOLETA_DESC', 'EMP_ID_y', 'LOCAL_NOME', 'ROTA_DESC']\n",
    "\n",
    "df.drop(DROP_LIST, axis=1, inplace=True)"
   ]
  },
  {
   "cell_type": "markdown",
   "metadata": {},
   "source": [
    "## Removing Missing Values"
   ]
  },
  {
   "cell_type": "code",
   "execution_count": null,
   "metadata": {},
   "outputs": [],
   "source": [
    "df.dropna(inplace=True)"
   ]
  },
  {
   "cell_type": "markdown",
   "metadata": {},
   "source": [
    "## Applying OneHotEncoder on Categorical Columns"
   ]
  },
  {
   "cell_type": "code",
   "execution_count": null,
   "metadata": {},
   "outputs": [],
   "source": [
    "df = pd.get_dummies(df, prefix=['TPVEICULO_DESC'], columns=['TPVEICULO_DESC'], dtype='int')"
   ]
  },
  {
   "cell_type": "markdown",
   "metadata": {},
   "source": [
    "## Our Results"
   ]
  },
  {
   "cell_type": "code",
   "execution_count": null,
   "metadata": {},
   "outputs": [],
   "source": [
    "df.info()"
   ]
  },
  {
   "cell_type": "code",
   "execution_count": null,
   "metadata": {},
   "outputs": [],
   "source": [
    "df.head()"
   ]
  },
  {
   "cell_type": "markdown",
   "metadata": {},
   "source": [
    "## Exporting"
   ]
  },
  {
   "cell_type": "code",
   "execution_count": null,
   "metadata": {},
   "outputs": [],
   "source": [
    "df.to_csv('../data/preprocessed.csv', index=True)"
   ]
  }
 ],
 "metadata": {
  "kernelspec": {
   "display_name": ".venv",
   "language": "python",
   "name": "python3"
  },
  "language_info": {
   "codemirror_mode": {
    "name": "ipython",
    "version": 3
   },
   "file_extension": ".py",
   "mimetype": "text/x-python",
   "name": "python",
   "nbconvert_exporter": "python",
   "pygments_lexer": "ipython3",
   "version": "3.11.0"
  }
 },
 "nbformat": 4,
 "nbformat_minor": 2
}
